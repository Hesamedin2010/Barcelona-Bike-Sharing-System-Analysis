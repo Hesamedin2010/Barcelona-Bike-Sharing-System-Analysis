{
 "cells": [
  {
   "cell_type": "markdown",
   "id": "a66c40fd-3d10-4c2b-b641-6dd5fa061aba",
   "metadata": {},
   "source": [
    "# Analyze bike-sharing system of Barcelona - Spark RDD-based programming"
   ]
  },
  {
   "cell_type": "code",
   "execution_count": null,
   "id": "d1c06fb2-8f79-4b54-9720-122c3931a97e",
   "metadata": {},
   "outputs": [],
   "source": [
    "# In this analysis, I am going to consider the occupancy of the stations where users can pick up or drop off\n",
    "# bikes in order to identify the most \"critical\" timeslots (day of the week, hour) for each station."
   ]
  },
  {
   "cell_type": "code",
   "execution_count": null,
   "id": "418e5d09-c8ac-4e75-ac8a-e8dcf761c1a7",
   "metadata": {},
   "outputs": [],
   "source": [
    "# data is located on the big data cluster and I am going to read data from there.\n",
    "# there are two types of data:\n",
    "# 1. register.csv: This contains the historical information about the number of used and free slots for\n",
    "#    ~3000 stations from May 2008 to September 2008. Each line of register.csv\n",
    "#    corresponds to one reading about the situation of one station at a specific timestamp.\n",
    "# 2. stations.csv: It contains the description of the stations (station_id, latitude, longitude, name). "
   ]
  },
  {
   "cell_type": "code",
   "execution_count": 1,
   "id": "cb32201c-fce9-4af3-832f-67d2e841c57d",
   "metadata": {},
   "outputs": [],
   "source": [
    "registerPath = \"/data/students/bigdata_internet/lab3/register.csv\"\n",
    "stationPath = \"/data/students/bigdata_internet/lab3/stations.csv\""
   ]
  },
  {
   "cell_type": "code",
   "execution_count": null,
   "id": "5d26a7fe-8213-4c90-b88a-6c2064ae3bc6",
   "metadata": {},
   "outputs": [],
   "source": [
    "'''In this analysis, PySpark was utilized for its robust distributed computing capabilities, \n",
    "ideal for handling large datasets efficiently.\n",
    "If you're using the PySpark shell, no additional setup is necessary. \n",
    "However, for those working in a Python environment, setting up PySpark involves the following steps:\n",
    "1. Install PySpark: Begin by installing PySpark using pip:\n",
    "pip install pyspark\n",
    "2. Configure PySpark: In your Python script or interactive session, include the following configuration \n",
    "to initialize PySpark:\n",
    "```python\n",
    "from pyspark import SparkConf, SparkContext\n",
    "conf = SparkConf().setAppName(\"MyApp\")\n",
    "sc = SparkContext(conf=conf)\n",
    "```\n",
    "Ensure to execute this configuration before performing any PySpark operations.\n",
    "For comprehensive installation and configuration instructions, refer to the official PySpark documentation: \n",
    "PySpark Installation Guide\n",
    "'''"
   ]
  },
  {
   "cell_type": "code",
   "execution_count": null,
   "id": "0a2239a5-e050-4aba-a56d-6d9e57663985",
   "metadata": {},
   "outputs": [],
   "source": [
    "# Reading register data as a RDD"
   ]
  },
  {
   "cell_type": "code",
   "execution_count": 2,
   "id": "bfce9252-5413-4c37-857d-3887762c9c6e",
   "metadata": {},
   "outputs": [],
   "source": [
    "registerRDD = sc.textFile(registerPath)"
   ]
  },
  {
   "cell_type": "code",
   "execution_count": null,
   "id": "85cd05f2-152d-4814-9492-8c20afbb24ed",
   "metadata": {},
   "outputs": [],
   "source": [
    "# The file is separated with tab so I will split each row by \\t."
   ]
  },
  {
   "cell_type": "code",
   "execution_count": 3,
   "id": "cc1badbf-8b09-456c-9996-e9d0eee0b830",
   "metadata": {},
   "outputs": [],
   "source": [
    "registerRDDList = registerRDD.map(lambda l: l.split('\\t'))"
   ]
  },
  {
   "cell_type": "code",
   "execution_count": 5,
   "id": "af530c4c-d347-43c0-ab28-cc995ac65d29",
   "metadata": {},
   "outputs": [
    {
     "name": "stderr",
     "output_type": "stream",
     "text": [
      "                                                                                \r"
     ]
    },
    {
     "data": {
      "text/plain": [
       "25319029"
      ]
     },
     "execution_count": 5,
     "metadata": {},
     "output_type": "execute_result"
    }
   ],
   "source": [
    "registerRDD.count()"
   ]
  },
  {
   "cell_type": "code",
   "execution_count": null,
   "id": "2d6131e9-fd9f-4275-ad57-1674cada8731",
   "metadata": {},
   "outputs": [],
   "source": [
    "# To clean the data, I am going to filter data that their used_slot != 0 or their free_slot != 0 \n",
    "# because whether there are some bicycles in station or not and it is not possible to have 0 for both. "
   ]
  },
  {
   "cell_type": "code",
   "execution_count": 4,
   "id": "942c5e09-090b-4f03-ade6-8bd6ebe2776f",
   "metadata": {},
   "outputs": [],
   "source": [
    "registerRDDFiltered = registerRDDList.filter(lambda l: l[2] != \"0\" or l[3] != \"0\")"
   ]
  },
  {
   "cell_type": "code",
   "execution_count": 7,
   "id": "8cb0f591-50f6-4efb-9f8f-ca1161320486",
   "metadata": {},
   "outputs": [
    {
     "name": "stderr",
     "output_type": "stream",
     "text": [
      "                                                                                \r"
     ]
    },
    {
     "data": {
      "text/plain": [
       "25104122"
      ]
     },
     "execution_count": 7,
     "metadata": {},
     "output_type": "execute_result"
    }
   ],
   "source": [
    "registerRDDFiltered.count()"
   ]
  },
  {
   "cell_type": "code",
   "execution_count": null,
   "id": "1f6af28c-8c08-478a-ad4a-8e12149b34e2",
   "metadata": {},
   "outputs": [],
   "source": [
    "# There are 25,319,029 rows (one row is for the header) in the original file and \n",
    "# it decreases to 25,104,122 (one row for the header) after we did the filter and deleted wrong data."
   ]
  },
  {
   "cell_type": "markdown",
   "id": "06e733ad-649f-4f39-b62b-406bc8bd3fe0",
   "metadata": {},
   "source": [
    "........................................................................................"
   ]
  },
  {
   "cell_type": "code",
   "execution_count": null,
   "id": "1124a1bb-790d-4a28-a50c-2853dc81a12f",
   "metadata": {},
   "outputs": [],
   "source": [
    "# Reading station data as a RDD"
   ]
  },
  {
   "cell_type": "code",
   "execution_count": 5,
   "id": "7b1c1332-eaa7-424c-a935-04c181f47465",
   "metadata": {},
   "outputs": [],
   "source": [
    "stationRDD = sc.textFile(stationPath)"
   ]
  },
  {
   "cell_type": "code",
   "execution_count": 6,
   "id": "0f6a1c69-cf69-439f-a6f7-23edde8192ef",
   "metadata": {},
   "outputs": [],
   "source": [
    "stationRDDList = stationRDD.map(lambda l: l.split('\\t'))"
   ]
  },
  {
   "cell_type": "code",
   "execution_count": null,
   "id": "d49c0bb3-79e4-445f-9813-1f4aede077e4",
   "metadata": {},
   "outputs": [],
   "source": [
    "# Write a Spark application that selects the pairs (station, timeslot) that are characterized \n",
    "# by a high \"criticality\" value"
   ]
  },
  {
   "cell_type": "code",
   "execution_count": null,
   "id": "b5359e4a-782d-4193-be14-20052773eb5c",
   "metadata": {},
   "outputs": [],
   "source": [
    "# In this section I am going to find critical stations which have the most used bicycles"
   ]
  },
  {
   "cell_type": "code",
   "execution_count": null,
   "id": "341b2576-d861-46b7-9113-8c7f6c1d8be0",
   "metadata": {},
   "outputs": [],
   "source": [
    "# Because the file is csv, there is header that I have to remove it because I will analyze by RDD-based programming"
   ]
  },
  {
   "cell_type": "code",
   "execution_count": 7,
   "id": "7d567114-f4e0-462e-91f4-a3e4d4822a43",
   "metadata": {},
   "outputs": [
    {
     "name": "stderr",
     "output_type": "stream",
     "text": [
      "                                                                                \r"
     ]
    }
   ],
   "source": [
    "headerR = registerRDDFiltered.first()"
   ]
  },
  {
   "cell_type": "code",
   "execution_count": 8,
   "id": "555daac8-311d-4a06-973b-f7d8197990f4",
   "metadata": {},
   "outputs": [],
   "source": [
    "registerCleanRDD = registerRDDFiltered.filter(lambda x: x != headerR)"
   ]
  },
  {
   "cell_type": "code",
   "execution_count": 9,
   "id": "3e64fde7-5ed9-4445-b609-a989cfcc164b",
   "metadata": {},
   "outputs": [],
   "source": [
    "headerS = stationRDDList.first()"
   ]
  },
  {
   "cell_type": "code",
   "execution_count": 10,
   "id": "eec0d462-b54f-4095-aaf4-998078c74e6f",
   "metadata": {},
   "outputs": [],
   "source": [
    "stationCleanRDD = stationRDDList.filter(lambda x: x != headerS)"
   ]
  },
  {
   "cell_type": "code",
   "execution_count": null,
   "id": "591f31f7-b264-4acc-b158-9ca9b0570da4",
   "metadata": {},
   "outputs": [],
   "source": [
    "# For this analysis I will use \"day of week\" and \"hour\" to find critical timeslots\n",
    "# So, I am changing the timestamp into this format"
   ]
  },
  {
   "cell_type": "code",
   "execution_count": 11,
   "id": "ebc9aa92-709a-4daf-a0e9-8fe65c8f4e18",
   "metadata": {},
   "outputs": [],
   "source": [
    "from datetime import datetime as dt"
   ]
  },
  {
   "cell_type": "code",
   "execution_count": 12,
   "id": "2e11a3f6-1050-42c3-9353-39bf0e63b3e2",
   "metadata": {},
   "outputs": [],
   "source": [
    "def format_timestamp(l):\n",
    "    timestamp = dt.strptime(l[1], \"%Y-%m-%d %H:%M:%S\")\n",
    "    formatted_timestamp = dt.strftime(timestamp, \"%A, %H\")\n",
    "    l[1] = formatted_timestamp\n",
    "    return l"
   ]
  },
  {
   "cell_type": "code",
   "execution_count": 13,
   "id": "4273ac95-4109-4e0b-a2b0-453e7a1c9ec1",
   "metadata": {},
   "outputs": [],
   "source": [
    "registerTimeslot = registerCleanRDD.map(format_timestamp)"
   ]
  },
  {
   "cell_type": "markdown",
   "id": "6cde5300-b0ae-48a6-b1aa-723c82641f12",
   "metadata": {},
   "source": [
    "........................................................................................"
   ]
  },
  {
   "cell_type": "code",
   "execution_count": null,
   "id": "c5f91ca1-d8c5-47d4-aba2-6fc019e2159c",
   "metadata": {},
   "outputs": [],
   "source": [
    "# Computes the criticality value C(Si, Tj) for each pair (Si, Tj)"
   ]
  },
  {
   "cell_type": "code",
   "execution_count": null,
   "id": "fb74d8de-71ae-41d2-95b7-20534b365ad6",
   "metadata": {},
   "outputs": [],
   "source": [
    "# Turn register data into (k, v) pairs of (station_id, timslot) and (used_slot, free_slot)"
   ]
  },
  {
   "cell_type": "code",
   "execution_count": 14,
   "id": "ec8933ce-111b-44b0-88c0-24a811bc8458",
   "metadata": {},
   "outputs": [],
   "source": [
    "registerKeyValue = registerTimeslot.map(lambda l: ((l[0], l[1]), [l[2], l[3]]))"
   ]
  },
  {
   "cell_type": "code",
   "execution_count": null,
   "id": "db2a02e1-f217-4c32-afd4-086ba45e6a1e",
   "metadata": {},
   "outputs": [],
   "source": [
    "# Filter only those data that have free_slot = 0 which means that all of their bicycles were used."
   ]
  },
  {
   "cell_type": "code",
   "execution_count": 15,
   "id": "dee32515-e5e9-4301-b613-0821a318b347",
   "metadata": {},
   "outputs": [],
   "source": [
    "zeroFreeSlots = registerKeyValue.filter(lambda t: t if t[1][1] == '0' else None)"
   ]
  },
  {
   "cell_type": "code",
   "execution_count": null,
   "id": "99164ba3-4a3e-4a70-b01b-fcde2729b14b",
   "metadata": {},
   "outputs": [],
   "source": [
    "# Turn this data into (k, v) pairs of (station_id, timeslot) and 1 in order to be able to find the number of\n",
    "# (station_id, timeslot) with zero free_slot (all bicycles were used)"
   ]
  },
  {
   "cell_type": "code",
   "execution_count": 16,
   "id": "a19baf43-769f-4153-a59e-0b5ccc21869b",
   "metadata": {},
   "outputs": [],
   "source": [
    "zeroNumber = zeroFreeSlots.map(lambda x: (x[0], 1))"
   ]
  },
  {
   "cell_type": "code",
   "execution_count": 17,
   "id": "e6b57931-fa8b-4783-a598-ea7e805f7475",
   "metadata": {},
   "outputs": [],
   "source": [
    "numberZero = zeroNumber.reduceByKey(lambda a,b: a+b)"
   ]
  },
  {
   "cell_type": "code",
   "execution_count": null,
   "id": "4430f74a-c192-441e-8fa6-fe4d2bd528e3",
   "metadata": {},
   "outputs": [],
   "source": [
    "# Turn the register data into (k, v) pairs of (station_id, timeslot) and 1 in order to be able to find \n",
    "# the number of all pairs (station_id, timeslot) readings."
   ]
  },
  {
   "cell_type": "code",
   "execution_count": 18,
   "id": "9a62c145-a493-48ed-848a-f2b9243bc7c9",
   "metadata": {},
   "outputs": [],
   "source": [
    "registerNumber = registerKeyValue.map(lambda l: (l[0], 1))"
   ]
  },
  {
   "cell_type": "code",
   "execution_count": 19,
   "id": "25a6e017-1cd9-426f-9005-76cdc8c88c10",
   "metadata": {},
   "outputs": [],
   "source": [
    "numberTotal = registerNumber.reduceByKey(lambda a,b: a+b)"
   ]
  },
  {
   "cell_type": "code",
   "execution_count": null,
   "id": "adf9f0e6-89d0-4b34-a199-29aace14b478",
   "metadata": {},
   "outputs": [],
   "source": [
    "# Join two previous data (number of free_slots = 0 and all readings) for each pair (station_id, timeslot)"
   ]
  },
  {
   "cell_type": "code",
   "execution_count": 20,
   "id": "7b516bf2-acb5-4002-8a37-bca62f8075b1",
   "metadata": {},
   "outputs": [],
   "source": [
    "joinedZeroTotal = numberZero.join(numberTotal)"
   ]
  },
  {
   "cell_type": "code",
   "execution_count": null,
   "id": "a3ae2a74-34ed-47c5-827a-7c1a24ed24ff",
   "metadata": {},
   "outputs": [],
   "source": [
    "# The ration between these two data will give us the criticality value of each pair (station_id, timeslot)"
   ]
  },
  {
   "cell_type": "code",
   "execution_count": 21,
   "id": "353cfcba-633e-40a2-a066-056cf43d271d",
   "metadata": {},
   "outputs": [],
   "source": [
    "criticalityRDD = joinedZeroTotal.map(lambda l: (l[0], int(l[1][0])/int(l[1][1])))"
   ]
  },
  {
   "cell_type": "code",
   "execution_count": null,
   "id": "aa790e6b-96a7-4365-bd51-5dd971aeb12d",
   "metadata": {},
   "outputs": [],
   "source": [
    "# Now, I will select only the critical pairs (Si, Tj) having a criticality value C(Si, Tj) greater than \n",
    "# a minimum threshold (0.6)."
   ]
  },
  {
   "cell_type": "code",
   "execution_count": 22,
   "id": "b106812f-e218-430f-9e18-70b06a6ea60d",
   "metadata": {},
   "outputs": [],
   "source": [
    "criticalPointsRDD = criticalityRDD.filter(lambda x: float(x[1])>=0.6)"
   ]
  },
  {
   "cell_type": "code",
   "execution_count": null,
   "id": "7192cd15-3730-4d09-8eb4-7337b2249a69",
   "metadata": {},
   "outputs": [],
   "source": [
    "# Order the results by increasing criticality."
   ]
  },
  {
   "cell_type": "code",
   "execution_count": 23,
   "id": "8b1b4d18-ad23-4670-a794-2e0a286a5317",
   "metadata": {},
   "outputs": [
    {
     "name": "stderr",
     "output_type": "stream",
     "text": [
      "                                                                                \r"
     ]
    }
   ],
   "source": [
    "orderedCriticalPointsRDD = criticalPointsRDD.sortBy(lambda x: float(x[1]), True)"
   ]
  },
  {
   "cell_type": "code",
   "execution_count": null,
   "id": "75b8e1d8-bc64-4035-8223-beeb25904a4c",
   "metadata": {},
   "outputs": [],
   "source": [
    "# Show the most critical (station_id, timeslot) in Barcelona"
   ]
  },
  {
   "cell_type": "code",
   "execution_count": 25,
   "id": "071093c9-f2c9-45f8-b845-5303665e5ca4",
   "metadata": {},
   "outputs": [
    {
     "name": "stderr",
     "output_type": "stream",
     "text": [
      "                                                                                \r"
     ]
    },
    {
     "data": {
      "text/plain": [
       "[(('9', 'Friday, 10'), 0.6129032258064516),\n",
       " (('10', 'Saturday, 00'), 0.622107969151671),\n",
       " (('58', 'Monday, 01'), 0.6239554317548747),\n",
       " (('9', 'Friday, 22'), 0.6258389261744967),\n",
       " (('58', 'Monday, 00'), 0.6323119777158774)]"
      ]
     },
     "execution_count": 25,
     "metadata": {},
     "output_type": "execute_result"
    }
   ],
   "source": [
    "orderedCriticalPointsRDD.collect()"
   ]
  },
  {
   "cell_type": "markdown",
   "id": "6f32cfd7-af27-4ce6-8ff1-851973d6446f",
   "metadata": {},
   "source": [
    "-------------------------------------------------------------------------------------------"
   ]
  },
  {
   "cell_type": "code",
   "execution_count": null,
   "id": "c30405a0-d137-4fa0-b0db-6b2d4ea964ab",
   "metadata": {},
   "outputs": [],
   "source": [
    "# Store the sorted critical pairs C(Si, Tj) in the output folder (also an argument of the application), \n",
    "# by using a csv files (with header), where columns are separated by \"tab\". Store exactly the following \n",
    "# attributes separated by a \"tab\":\n",
    "# station / station longitude / station latitude / day of week / hour / criticality value"
   ]
  },
  {
   "cell_type": "code",
   "execution_count": 24,
   "id": "1465ec1a-474b-4d86-8556-d2d4248a33ee",
   "metadata": {},
   "outputs": [],
   "source": [
    "orderedCriticalSeparated = orderedCriticalPointsRDD.map(lambda x: (x[0][0], (x[0][1], x[1])))"
   ]
  },
  {
   "cell_type": "code",
   "execution_count": 25,
   "id": "e06088b2-0730-4fbb-8c61-99fa18f60401",
   "metadata": {},
   "outputs": [],
   "source": [
    "stationPairRDD = stationCleanRDD.map(lambda s: (s[0], (s[1], s[2])))"
   ]
  },
  {
   "cell_type": "code",
   "execution_count": null,
   "id": "c738ae94-e809-4103-a8f0-e708939e20c8",
   "metadata": {},
   "outputs": [],
   "source": [
    "# Join critical stations RDD from register data with station data"
   ]
  },
  {
   "cell_type": "code",
   "execution_count": 26,
   "id": "e735c036-dbaa-4731-8827-c9b7f28ea94f",
   "metadata": {},
   "outputs": [],
   "source": [
    "joinedCriticalStationsRDD = stationPairRDD.join(orderedCriticalSeparated)"
   ]
  },
  {
   "cell_type": "code",
   "execution_count": 27,
   "id": "1e6111af-21a9-4f12-a7e5-69a234bffb2c",
   "metadata": {},
   "outputs": [],
   "source": [
    "finalRDD = joinedCriticalStationsRDD.map(lambda s: [s[0], s[1][0][0], s[1][0][1], s[1][1][0].split(',')[0], s[1][1][0].split(',')[1], s[1][1][1]])"
   ]
  },
  {
   "cell_type": "code",
   "execution_count": 28,
   "id": "dfa3e561-2dea-4740-8b08-7526a1a2261a",
   "metadata": {},
   "outputs": [
    {
     "name": "stderr",
     "output_type": "stream",
     "text": [
      "                                                                                \r"
     ]
    }
   ],
   "source": [
    "finalSortedRDD = finalRDD.sortBy(lambda x: float(x[5]), True)"
   ]
  },
  {
   "cell_type": "code",
   "execution_count": null,
   "id": "45113270-9cb6-4892-bd5a-3144f2c5376e",
   "metadata": {},
   "outputs": [],
   "source": [
    "# Add the header to RDD"
   ]
  },
  {
   "cell_type": "code",
   "execution_count": 29,
   "id": "863411ad-5846-4d18-a705-19a5e3847ae6",
   "metadata": {},
   "outputs": [],
   "source": [
    "headerList = [['station', 'station_longitude', 'station_latitude', 'day_of_week', 'hour', 'criticality_value']]"
   ]
  },
  {
   "cell_type": "code",
   "execution_count": 30,
   "id": "9cc1bb13-fe13-4b9e-bb03-6bc91a186fca",
   "metadata": {},
   "outputs": [],
   "source": [
    "headerRDD = sc.parallelize(headerList)"
   ]
  },
  {
   "cell_type": "code",
   "execution_count": 31,
   "id": "08dc9a7b-02f7-4360-952b-e3bb32ade17e",
   "metadata": {},
   "outputs": [],
   "source": [
    "csvFinal = headerRDD.union(finalSortedRDD)"
   ]
  },
  {
   "cell_type": "code",
   "execution_count": 32,
   "id": "5930f8c9-d1fd-44ce-8a36-23a41b187d6a",
   "metadata": {},
   "outputs": [],
   "source": [
    "def to_string(x):\n",
    "    x[5] = str(x[5])\n",
    "    return x"
   ]
  },
  {
   "cell_type": "code",
   "execution_count": 33,
   "id": "0c2386da-3555-4f5e-97aa-56daad2a8d42",
   "metadata": {},
   "outputs": [],
   "source": [
    "csvFinal = csvFinal.map(to_string)"
   ]
  },
  {
   "cell_type": "code",
   "execution_count": 34,
   "id": "fbba79f8-42b0-44fe-a8f5-74cd3018f624",
   "metadata": {},
   "outputs": [],
   "source": [
    "finalTSVRDD = csvFinal.map(lambda x: '\\t'.join(x))"
   ]
  },
  {
   "cell_type": "code",
   "execution_count": null,
   "id": "43d1d7e6-f2fb-43fd-87cb-ff5ee0c7cf60",
   "metadata": {},
   "outputs": [],
   "source": [
    "# save the result"
   ]
  },
  {
   "cell_type": "code",
   "execution_count": 35,
   "id": "e93776bf-0b5b-4cd4-be3f-59052871fbbb",
   "metadata": {},
   "outputs": [
    {
     "name": "stderr",
     "output_type": "stream",
     "text": [
      "                                                                                \r"
     ]
    }
   ],
   "source": [
    "finalTSVRDD.saveAsTextFile('critical-stations-Barcelona-RDD')"
   ]
  },
  {
   "cell_type": "code",
   "execution_count": 36,
   "id": "30362bb3-9003-4122-b50e-8302dd53ad14",
   "metadata": {},
   "outputs": [
    {
     "data": {
      "text/plain": [
       "['station\\tstation_longitude\\tstation_latitude\\tday_of_week\\thour\\tcriticality_value',\n",
       " '9\\t2.185294\\t41.385006\\tFriday\\t 10\\t0.6129032258064516',\n",
       " '10\\t2.185206\\t41.384875\\tSaturday\\t 00\\t0.622107969151671',\n",
       " '58\\t2.170736\\t41.377536\\tMonday\\t 01\\t0.6239554317548747',\n",
       " '9\\t2.185294\\t41.385006\\tFriday\\t 22\\t0.6258389261744967',\n",
       " '58\\t2.170736\\t41.377536\\tMonday\\t 00\\t0.6323119777158774']"
      ]
     },
     "execution_count": 36,
     "metadata": {},
     "output_type": "execute_result"
    }
   ],
   "source": [
    "finalTSVRDD.collect()"
   ]
  },
  {
   "cell_type": "markdown",
   "id": "254aaf1f-afc4-4b75-b7a8-54fb8088852a",
   "metadata": {},
   "source": [
    "----------------------------------------------------------------------------------------"
   ]
  },
  {
   "cell_type": "code",
   "execution_count": null,
   "id": "46232069-2089-4c17-a389-f7b552188a87",
   "metadata": {},
   "outputs": [],
   "source": [
    "# In this section, I am going to compute the distance between each station and the city center. \n",
    "# The city center has coordinates:\n",
    "# latitude = 41.386904\n",
    "# longitude = 2.169989\n",
    "# To compute the distance implement the Haversine function (use the formula \n",
    "# in https://en.wikipedia.org/wiki/Haversine_formula).\n",
    "# Then, compute the average number of used_slots per station"
   ]
  },
  {
   "cell_type": "code",
   "execution_count": null,
   "id": "a737f73a-04d8-40e4-9abe-9c6f2a26967d",
   "metadata": {},
   "outputs": [],
   "source": [
    "# Define the function to compute the haversine"
   ]
  },
  {
   "cell_type": "code",
   "execution_count": 66,
   "id": "c3ecaa9b-f810-4851-822b-3e72921b5b88",
   "metadata": {},
   "outputs": [],
   "source": [
    "import math\n",
    "def haversine(x):\n",
    "    lat1 = 41.386904\n",
    "    lon1 = 2.169989\n",
    "    # Radius of the Earth in kilometers\n",
    "    R = 6371.0\n",
    "    x[2] = float(x[2])\n",
    "    x[1] = float(x[1])\n",
    "    # Convert latitude and longitude from degrees to radians\n",
    "    lat1, lon1, x[2], x[1] = map(math.radians, [lat1, lon1, x[2], x[1]])\n",
    "    dlat = x[2] - lat1\n",
    "    dlon = x[1] - lon1\n",
    "    hav = math.sin(dlat / 2) ** 2 + math.cos(lat1) * math.cos(x[2]) * math.sin(dlon / 2) ** 2\n",
    "    distance = 2 * R * math.asin(math.sqrt(hav))\n",
    "    return x + [distance]"
   ]
  },
  {
   "cell_type": "code",
   "execution_count": null,
   "id": "6485c363-1915-42ad-aa8b-a6d734a84bb6",
   "metadata": {},
   "outputs": [],
   "source": [
    "# Add the distance to RDD"
   ]
  },
  {
   "cell_type": "code",
   "execution_count": 43,
   "id": "be8e453d-e590-45d5-ad1d-bc515fc34cca",
   "metadata": {},
   "outputs": [],
   "source": [
    "stationDistanceRDD = stationCleanRDD.map(haversine)"
   ]
  },
  {
   "cell_type": "code",
   "execution_count": null,
   "id": "17259423-5447-4181-9eff-278613d95f23",
   "metadata": {},
   "outputs": [],
   "source": [
    "# Create pair-RDD for (stations, distance)"
   ]
  },
  {
   "cell_type": "code",
   "execution_count": 44,
   "id": "0bc06472-ae26-41e1-8f12-88948fe05740",
   "metadata": {},
   "outputs": [],
   "source": [
    "stationDistancePair = stationDistanceRDD.map(lambda x: (x[0], x[4]))"
   ]
  },
  {
   "cell_type": "code",
   "execution_count": null,
   "id": "22313338-5bd8-4689-8066-7e3600098095",
   "metadata": {},
   "outputs": [],
   "source": [
    "# Create pair-RDD for (stations, used_slots)"
   ]
  },
  {
   "cell_type": "code",
   "execution_count": 45,
   "id": "89b86b98-7b60-4b8c-b279-c7297a12f172",
   "metadata": {},
   "outputs": [],
   "source": [
    "registerPair = registerCleanRDD.map(lambda l: (l[0], int(l[2])))"
   ]
  },
  {
   "cell_type": "code",
   "execution_count": null,
   "id": "49e395f9-e37a-41de-9012-215226e41268",
   "metadata": {},
   "outputs": [],
   "source": [
    "# Group stations"
   ]
  },
  {
   "cell_type": "code",
   "execution_count": 46,
   "id": "b67bda8f-5723-4405-a82f-72ffdacd72f6",
   "metadata": {},
   "outputs": [],
   "source": [
    "registerPairGrouped = registerPair.groupByKey()"
   ]
  },
  {
   "cell_type": "code",
   "execution_count": null,
   "id": "a5771541-ab5e-48fa-942b-8b889342be8f",
   "metadata": {},
   "outputs": [],
   "source": [
    "# Calculate the average of used slaots in each station"
   ]
  },
  {
   "cell_type": "code",
   "execution_count": 47,
   "id": "2aab3e7d-67a1-4f32-968d-471cea2d16a9",
   "metadata": {},
   "outputs": [],
   "source": [
    "registerPairReduced = registerPairGrouped.map(lambda x: (x[0], sum(x[1])/len(x[1])))"
   ]
  },
  {
   "cell_type": "code",
   "execution_count": null,
   "id": "50163c57-686f-4185-924b-3e2b46c3e454",
   "metadata": {},
   "outputs": [],
   "source": [
    "# Join station pair-RDD and register pair-RDD"
   ]
  },
  {
   "cell_type": "code",
   "execution_count": 48,
   "id": "fb26a311-1100-419e-9b47-4f4009dca99e",
   "metadata": {},
   "outputs": [],
   "source": [
    "distanceJoinedRDD = stationDistancePair.join(registerPairReduced)"
   ]
  },
  {
   "cell_type": "code",
   "execution_count": null,
   "id": "f3c558f4-c8f9-4bbd-a06f-fa573ed22b04",
   "metadata": {},
   "outputs": [],
   "source": [
    "# Now, I want to find the stations that are closer than 1.5 km from the center"
   ]
  },
  {
   "cell_type": "code",
   "execution_count": null,
   "id": "795601a1-d69e-4205-ac0d-b82d72d443b7",
   "metadata": {},
   "outputs": [],
   "source": [
    "# Filter distance closer than 1.5 km."
   ]
  },
  {
   "cell_type": "code",
   "execution_count": 49,
   "id": "0255afa1-e506-4c10-b99a-381581988813",
   "metadata": {},
   "outputs": [],
   "source": [
    "closeStations = distanceJoinedRDD.filter(lambda x: x[1][0] < 1.5)"
   ]
  },
  {
   "cell_type": "code",
   "execution_count": null,
   "id": "ac4fa2d8-22df-4538-b949-1412029b96da",
   "metadata": {},
   "outputs": [],
   "source": [
    "# calculate the number of stations closer than 1.5 km."
   ]
  },
  {
   "cell_type": "code",
   "execution_count": 50,
   "id": "04539bee-1065-4dbe-821a-5d25dcb59e49",
   "metadata": {},
   "outputs": [
    {
     "name": "stderr",
     "output_type": "stream",
     "text": [
      "                                                                                \r"
     ]
    },
    {
     "data": {
      "text/plain": [
       "64"
      ]
     },
     "execution_count": 50,
     "metadata": {},
     "output_type": "execute_result"
    }
   ],
   "source": [
    "closeStations.count()"
   ]
  },
  {
   "cell_type": "code",
   "execution_count": null,
   "id": "75722c7d-6ddb-4f6a-9d04-a247193b9141",
   "metadata": {},
   "outputs": [],
   "source": [
    "# Calculate the sum of used_slots of stations closer than 1.5 km to city center"
   ]
  },
  {
   "cell_type": "code",
   "execution_count": 51,
   "id": "0f5f70a1-69a4-4f65-9596-4883a686135a",
   "metadata": {},
   "outputs": [],
   "source": [
    "closeStationsUsedSlots = closeStations.map(lambda x: float(x[1][1]))"
   ]
  },
  {
   "cell_type": "code",
   "execution_count": 52,
   "id": "3179e48f-168a-450f-a109-a238f161ac0b",
   "metadata": {},
   "outputs": [],
   "source": [
    "closeStationsUsedSlotsSum = closeStationsUsedSlots.reduce(lambda a, b: a + b)"
   ]
  },
  {
   "cell_type": "code",
   "execution_count": 53,
   "id": "7c8df421-45e6-454b-8672-3e4a7165400e",
   "metadata": {},
   "outputs": [
    {
     "name": "stdout",
     "output_type": "stream",
     "text": [
      "523.2437013187326\n"
     ]
    }
   ],
   "source": [
    "print(closeStationsUsedSlotsSum)"
   ]
  },
  {
   "cell_type": "code",
   "execution_count": null,
   "id": "bf953eee-c541-4ed6-a372-b2f6cc7b9803",
   "metadata": {},
   "outputs": [],
   "source": [
    "# The average of used_slots of stations closer than 1.5 km from city center"
   ]
  },
  {
   "cell_type": "code",
   "execution_count": 54,
   "id": "26afec88-2f11-4a69-9441-6b42980bbe7f",
   "metadata": {},
   "outputs": [],
   "source": [
    "avgCloseStationsUsedSlots = closeStationsUsedSlotsSum/closeStations.count()"
   ]
  },
  {
   "cell_type": "code",
   "execution_count": 55,
   "id": "55deeaf4-5ba0-4979-a818-b572d14537c3",
   "metadata": {},
   "outputs": [
    {
     "name": "stdout",
     "output_type": "stream",
     "text": [
      "8.175682833105197\n"
     ]
    }
   ],
   "source": [
    "print(avgCloseStationsUsedSlots)"
   ]
  },
  {
   "cell_type": "code",
   "execution_count": null,
   "id": "3bcbd486-5837-434c-9fcc-53718d0f87c4",
   "metadata": {},
   "outputs": [],
   "source": [
    "# Now, I am going to find the stations that are farther than 1.5 km from the center"
   ]
  },
  {
   "cell_type": "code",
   "execution_count": null,
   "id": "db7fb242-67e0-4288-8204-65880c4ad23f",
   "metadata": {},
   "outputs": [],
   "source": [
    "# Filter distance further than 1.5 km."
   ]
  },
  {
   "cell_type": "code",
   "execution_count": 56,
   "id": "edfc729d-941f-42c4-9057-fdbea5cde0f8",
   "metadata": {},
   "outputs": [],
   "source": [
    "furtherStations = distanceJoinedRDD.filter(lambda x: x[1][0] >= 1.5)"
   ]
  },
  {
   "cell_type": "code",
   "execution_count": null,
   "id": "507da3c0-e3b3-4b72-acd8-9e65e9f0da78",
   "metadata": {},
   "outputs": [],
   "source": [
    "# calculate the number of stations"
   ]
  },
  {
   "cell_type": "code",
   "execution_count": 57,
   "id": "6ce98294-b646-4363-9802-cff990f080b9",
   "metadata": {},
   "outputs": [
    {
     "data": {
      "text/plain": [
       "220"
      ]
     },
     "execution_count": 57,
     "metadata": {},
     "output_type": "execute_result"
    }
   ],
   "source": [
    "furtherStations.count()"
   ]
  },
  {
   "cell_type": "code",
   "execution_count": null,
   "id": "29b17ff3-243f-408e-9903-f56eb6dcd54b",
   "metadata": {},
   "outputs": [],
   "source": [
    "# Calculate the sum of used_slots of stations further than 1.5 km from city center"
   ]
  },
  {
   "cell_type": "code",
   "execution_count": 58,
   "id": "917f2998-3c66-4dc2-b8c2-b33b3eb5cb1e",
   "metadata": {},
   "outputs": [],
   "source": [
    "furtherStationsUsedSlots = furtherStations.map(lambda x: float(x[1][1]))"
   ]
  },
  {
   "cell_type": "code",
   "execution_count": 59,
   "id": "bebc83e6-3ea0-45b0-93bc-f70d4a58efd9",
   "metadata": {},
   "outputs": [],
   "source": [
    "furtherStationsUsedSlotsSum = furtherStationsUsedSlots.reduce(lambda a, b: a + b)"
   ]
  },
  {
   "cell_type": "code",
   "execution_count": 60,
   "id": "ee9d9a68-c23a-41a6-9992-ea1b88a2e5e3",
   "metadata": {},
   "outputs": [
    {
     "name": "stdout",
     "output_type": "stream",
     "text": [
      "1731.242401514143\n"
     ]
    }
   ],
   "source": [
    "print(furtherStationsUsedSlotsSum)"
   ]
  },
  {
   "cell_type": "code",
   "execution_count": null,
   "id": "c783f184-8beb-4c66-af5f-243f37899e31",
   "metadata": {},
   "outputs": [],
   "source": [
    "# The average of used_slots of stations further than 1.5 km from city center"
   ]
  },
  {
   "cell_type": "code",
   "execution_count": 61,
   "id": "9694d463-c3ed-4b1d-9763-da9adf7f8e91",
   "metadata": {},
   "outputs": [],
   "source": [
    "avgFurtherStationsUsedSlots = furtherStationsUsedSlotsSum/furtherStations.count()"
   ]
  },
  {
   "cell_type": "code",
   "execution_count": 62,
   "id": "7a481c6f-312b-4407-9ed5-34c9a12bf316",
   "metadata": {},
   "outputs": [
    {
     "name": "stdout",
     "output_type": "stream",
     "text": [
      "7.869283643246105\n"
     ]
    }
   ],
   "source": [
    "print(avgFurtherStationsUsedSlots)"
   ]
  },
  {
   "cell_type": "code",
   "execution_count": 26,
   "id": "9e10b098-e43f-41d3-a87a-f18e99c0ec26",
   "metadata": {},
   "outputs": [],
   "source": [
    "# The result shows that the number of stations further than 1.5 km from city center is approximately 3 times more \n",
    "# than those which are closer than 1.5 km from city center. Also, the average of used slots of closer ones \n",
    "# is higher than further ones. The average of used slots for closer stations is 8.17 and it is 7.87 for further \n",
    "# ones that shows there are a little more free_slots for further stations."
   ]
  }
 ],
 "metadata": {
  "kernelspec": {
   "display_name": "PySpark (Yarn)",
   "language": "python",
   "name": "pyspark_yarn"
  },
  "language_info": {
   "codemirror_mode": {
    "name": "ipython",
    "version": 3
   },
   "file_extension": ".py",
   "mimetype": "text/x-python",
   "name": "python",
   "nbconvert_exporter": "python",
   "pygments_lexer": "ipython3",
   "version": "3.7.12"
  }
 },
 "nbformat": 4,
 "nbformat_minor": 5
}
